{
 "cells": [
  {
   "cell_type": "markdown",
   "id": "fluid-impossible",
   "metadata": {},
   "source": [
    "# Mission To Mars"
   ]
  },
  {
   "cell_type": "code",
   "execution_count": 16,
   "id": "digital-madagascar",
   "metadata": {},
   "outputs": [],
   "source": [
    "from bs4 import BeautifulSoup as bs\n",
    "import pandas as pd\n",
    "from splinter import Browser\n",
    "import requests"
   ]
  },
  {
   "cell_type": "code",
   "execution_count": 17,
   "id": "ahead-dinner",
   "metadata": {},
   "outputs": [],
   "source": [
    "#create path \n",
    "\n",
    "executable_path = {\"executable_path\":\"/Users/brittanyaylia/Desktop/chromedriver\"}"
   ]
  },
  {
   "cell_type": "code",
   "execution_count": 18,
   "id": "ambient-object",
   "metadata": {},
   "outputs": [],
   "source": [
    "browser = Browser(\"chrome\", **executable_path, headless=False)"
   ]
  },
  {
   "cell_type": "markdown",
   "id": "realistic-belarus",
   "metadata": {},
   "source": [
    "## NASA Mars News"
   ]
  },
  {
   "cell_type": "code",
   "execution_count": 23,
   "id": "worthy-authentication",
   "metadata": {},
   "outputs": [],
   "source": [
    "#scrape mars news site\n",
    "\n",
    "news_url = 'https://mars.nasa.gov/news/'\n",
    "\n",
    "browser.visit(news_url)\n",
    "\n",
    "html = browser.html\n",
    "\n",
    "bsoup = bs(html, 'html.parser')"
   ]
  },
  {
   "cell_type": "code",
   "execution_count": 24,
   "id": "false-soldier",
   "metadata": {},
   "outputs": [
    {
     "name": "stdout",
     "output_type": "stream",
     "text": [
      "Mars Now\n",
      "The Red Planet rotorcraft will shift focus from proving flight is possible on Mars to demonstrating flight operations that future aerial craft could utilize.\n"
     ]
    }
   ],
   "source": [
    "#collect the latest news title and paragraph text\n",
    "\n",
    "titles = bsoup.find('div', class_='content_title').text\n",
    "print(titles)\n",
    "\n",
    "paragraphs = bsoup.find('div', class_='article_teaser_body').text\n",
    "print(paragraphs)"
   ]
  },
  {
   "cell_type": "markdown",
   "id": "unusual-shopper",
   "metadata": {},
   "source": [
    "## JPL Mars Space Images "
   ]
  },
  {
   "cell_type": "code",
   "execution_count": 29,
   "id": "hollow-couple",
   "metadata": {},
   "outputs": [
    {
     "name": "stdout",
     "output_type": "stream",
     "text": [
      "https://www.jpl.nasa.govimage/featured/mars1.jpg\n"
     ]
    }
   ],
   "source": [
    "#find the image url for the current featured mars image\n",
    "\n",
    "img_url = 'https://spaceimages-mars.com/'\n",
    "\n",
    "browser.visit(img_url)\n",
    "\n",
    "img_html = browser.html\n",
    "\n",
    "bsoup = bs(img_html, 'html.parser')\n",
    "\n",
    "featured = bsoup.find(\"img\", class_='fade-in').get('src')\n",
    "featured_url = f'https://www.jpl.nasa.gov{featured}'\n",
    "print(featured_url)"
   ]
  },
  {
   "cell_type": "code",
   "execution_count": null,
   "id": "auburn-thailand",
   "metadata": {},
   "outputs": [],
   "source": []
  }
 ],
 "metadata": {
  "kernelspec": {
   "display_name": "Python [conda env:PythonData] *",
   "language": "python",
   "name": "conda-env-PythonData-py"
  },
  "language_info": {
   "codemirror_mode": {
    "name": "ipython",
    "version": 3
   },
   "file_extension": ".py",
   "mimetype": "text/x-python",
   "name": "python",
   "nbconvert_exporter": "python",
   "pygments_lexer": "ipython3",
   "version": "3.6.10"
  }
 },
 "nbformat": 4,
 "nbformat_minor": 5
}
